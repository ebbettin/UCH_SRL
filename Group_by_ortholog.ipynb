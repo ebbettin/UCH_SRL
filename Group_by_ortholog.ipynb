{
  "nbformat": 4,
  "nbformat_minor": 0,
  "metadata": {
    "colab": {
      "provenance": [],
      "authorship_tag": "ABX9TyMAj7l8J0UjrCrDRQPdP7uX",
      "include_colab_link": true
    },
    "kernelspec": {
      "name": "python3",
      "display_name": "Python 3"
    },
    "language_info": {
      "name": "python"
    }
  },
  "cells": [
    {
      "cell_type": "markdown",
      "metadata": {
        "id": "view-in-github",
        "colab_type": "text"
      },
      "source": [
        "<a href=\"https://colab.research.google.com/github/ebbettin/UCH_SRL/blob/main/Group_by_ortholog.ipynb\" target=\"_parent\"><img src=\"https://colab.research.google.com/assets/colab-badge.svg\" alt=\"Open In Colab\"/></a>"
      ]
    },
    {
      "cell_type": "code",
      "source": [
        "!pip install biopython\n",
        "!pip install python-Levenshtein\n",
        "\n",
        "from pathlib import Path\n",
        "from Bio import SeqIO\n",
        "import shutil as sh\n",
        "from collections import defaultdict\n",
        "import Levenshtein"
      ],
      "metadata": {
        "colab": {
          "base_uri": "https://localhost:8080/"
        },
        "id": "FTD3-ptsaEe7",
        "outputId": "baebe402-3cb1-4275-a8d0-6587c03e89c0"
      },
      "execution_count": null,
      "outputs": [
        {
          "output_type": "stream",
          "name": "stdout",
          "text": [
            "Collecting biopython\n",
            "  Downloading biopython-1.85-cp312-cp312-manylinux_2_17_x86_64.manylinux2014_x86_64.whl.metadata (13 kB)\n",
            "Requirement already satisfied: numpy in /usr/local/lib/python3.12/dist-packages (from biopython) (2.0.2)\n",
            "Downloading biopython-1.85-cp312-cp312-manylinux_2_17_x86_64.manylinux2014_x86_64.whl (3.3 MB)\n",
            "\u001b[2K   \u001b[90m━━━━━━━━━━━━━━━━━━━━━━━━━━━━━━━━━━━━━━━━\u001b[0m \u001b[32m3.3/3.3 MB\u001b[0m \u001b[31m18.0 MB/s\u001b[0m eta \u001b[36m0:00:00\u001b[0m\n",
            "\u001b[?25hInstalling collected packages: biopython\n",
            "Successfully installed biopython-1.85\n",
            "Collecting python-Levenshtein\n",
            "  Downloading python_levenshtein-0.27.1-py3-none-any.whl.metadata (3.7 kB)\n",
            "Collecting Levenshtein==0.27.1 (from python-Levenshtein)\n",
            "  Downloading levenshtein-0.27.1-cp312-cp312-manylinux_2_17_x86_64.manylinux2014_x86_64.whl.metadata (3.6 kB)\n",
            "Collecting rapidfuzz<4.0.0,>=3.9.0 (from Levenshtein==0.27.1->python-Levenshtein)\n",
            "  Downloading rapidfuzz-3.14.1-cp312-cp312-manylinux_2_27_x86_64.manylinux_2_28_x86_64.whl.metadata (12 kB)\n",
            "Downloading python_levenshtein-0.27.1-py3-none-any.whl (9.4 kB)\n",
            "Downloading levenshtein-0.27.1-cp312-cp312-manylinux_2_17_x86_64.manylinux2014_x86_64.whl (159 kB)\n",
            "\u001b[2K   \u001b[90m━━━━━━━━━━━━━━━━━━━━━━━━━━━━━━━━━━━━━━━━\u001b[0m \u001b[32m159.9/159.9 kB\u001b[0m \u001b[31m5.2 MB/s\u001b[0m eta \u001b[36m0:00:00\u001b[0m\n",
            "\u001b[?25hDownloading rapidfuzz-3.14.1-cp312-cp312-manylinux_2_27_x86_64.manylinux_2_28_x86_64.whl (3.2 MB)\n",
            "\u001b[2K   \u001b[90m━━━━━━━━━━━━━━━━━━━━━━━━━━━━━━━━━━━━━━━━\u001b[0m \u001b[32m3.2/3.2 MB\u001b[0m \u001b[31m58.3 MB/s\u001b[0m eta \u001b[36m0:00:00\u001b[0m\n",
            "\u001b[?25hInstalling collected packages: rapidfuzz, Levenshtein, python-Levenshtein\n",
            "Successfully installed Levenshtein-0.27.1 python-Levenshtein-0.27.1 rapidfuzz-3.14.1\n"
          ]
        }
      ]
    },
    {
      "cell_type": "code",
      "source": [
        "input_dir = Path(\"/content/fasta_files\")  # Folder with your strain FASTA files\n",
        "output_dir = Path(\"/content/genes_output\")\n",
        "output_dir.mkdir(exist_ok=True)\n",
        "\n",
        "# Parameters for grouping\n",
        "similarity_threshold = 0.9  # proportion similarity required to group sequences\n",
        "\n",
        "# Groups will be a list of tuples: (representative_seq, [records])\n",
        "sequence_groups = []\n",
        "\n",
        "# Read all sequences and group by closest match\n",
        "def find_group(seq_str):\n",
        "    for rep_seq, records in sequence_groups:\n",
        "        sim_ratio = Levenshtein.ratio(rep_seq, seq_str)\n",
        "        if sim_ratio >= similarity_threshold:\n",
        "            return records\n",
        "    return None\n",
        "\n",
        "for fasta_path in sorted(input_dir.glob(\"*.fasta\")):\n",
        "    for record in SeqIO.parse(fasta_path, \"fasta\"):\n",
        "        seq_str = str(record.seq).upper()\n",
        "        group_records = find_group(seq_str)\n",
        "        if group_records is not None:\n",
        "            group_records.append(record)\n",
        "        else:\n",
        "            sequence_groups.append((seq_str, [record]))\n",
        "\n",
        "if not sequence_groups:\n",
        "    raise ValueError(\"No sequences found in the input directory\")\n",
        "\n",
        "print(f\"Found {len(sequence_groups)} ortholog groups based on {similarity_threshold*100:.1f}% similarity threshold.\")\n",
        "\n",
        "# Write one FASTA file per sequence group\n",
        "for idx, (rep_seq, records) in enumerate(sequence_groups, start=1):\n",
        "    gene_filename = output_dir / f\"ortholog_{idx}.fasta\"\n",
        "    SeqIO.write(records, gene_filename, \"fasta\")\n",
        "\n",
        "print(f\"Created {len(sequence_groups)} ortholog FASTA files in {output_dir}\")\n"
      ],
      "metadata": {
        "colab": {
          "base_uri": "https://localhost:8080/"
        },
        "id": "8qrZsAMOaHvb",
        "outputId": "71ffe681-6c66-4f8d-9612-3a7e701af569"
      },
      "execution_count": null,
      "outputs": [
        {
          "output_type": "stream",
          "name": "stdout",
          "text": [
            "Found 8 ortholog groups based on 90.0% similarity threshold.\n",
            "Created 8 ortholog FASTA files in /content/genes_output\n"
          ]
        }
      ]
    },
    {
      "cell_type": "code",
      "source": [
        "# Create ZIP archive of the output folder\n",
        "zip_path = sh.make_archive(str(output_dir), 'zip', output_dir)\n",
        "print(f\"Zipped all output FASTA files to: {zip_path}\")"
      ],
      "metadata": {
        "colab": {
          "base_uri": "https://localhost:8080/"
        },
        "id": "MKYK4W8caKmc",
        "outputId": "e88bc1de-96f6-47d7-c9b1-72ebb39d1166"
      },
      "execution_count": null,
      "outputs": [
        {
          "output_type": "stream",
          "name": "stdout",
          "text": [
            "Zipped all output FASTA files to: /content/genes_output.zip\n"
          ]
        }
      ]
    }
  ]
}