{
  "nbformat": 4,
  "nbformat_minor": 0,
  "metadata": {
    "colab": {
      "provenance": [],
      "include_colab_link": true
    },
    "kernelspec": {
      "name": "python3",
      "display_name": "Python 3"
    },
    "language_info": {
      "name": "python"
    }
  },
  "cells": [
    {
      "cell_type": "markdown",
      "metadata": {
        "id": "view-in-github",
        "colab_type": "text"
      },
      "source": [
        "<a href=\"https://colab.research.google.com/github/ebbettin/UCH_SRL/blob/main/Structural_Mapping_of_Protein_Mutations.ipynb\" target=\"_parent\"><img src=\"https://colab.research.google.com/assets/colab-badge.svg\" alt=\"Open In Colab\"/></a>"
      ]
    },
    {
      "cell_type": "markdown",
      "source": [
        "## **Structural Mapping of Protein Mutations**\n"
      ],
      "metadata": {
        "id": "PR4QxxlquItM"
      }
    },
    {
      "cell_type": "markdown",
      "source": [
        "#Step 1. Install the required modules"
      ],
      "metadata": {
        "id": "piAQ-NHJuoIw"
      }
    },
    {
      "cell_type": "code",
      "source": [
        "!pip install biopython"
      ],
      "metadata": {
        "id": "GtCiNMVeNjw-"
      },
      "execution_count": null,
      "outputs": []
    },
    {
      "cell_type": "code",
      "source": [
        "!pip install xlsxwriter"
      ],
      "metadata": {
        "id": "iqKkZqUguGWv"
      },
      "execution_count": null,
      "outputs": []
    },
    {
      "cell_type": "code",
      "source": [
        "!apt-get install -y clustalo"
      ],
      "metadata": {
        "id": "4Xw_YAEwuzxj"
      },
      "execution_count": null,
      "outputs": []
    },
    {
      "cell_type": "code",
      "source": [
        "import os\n",
        "from Bio import SeqIO\n",
        "from Bio import AlignIO\n",
        "from Bio.Seq import Seq\n",
        "from Bio.Align.Applications import ClustalOmegaCommandline\n",
        "import pandas as pd\n",
        "from openpyxl import Workbook\n",
        "from openpyxl.utils.dataframe import dataframe_to_rows\n",
        "from google.colab import files\n",
        "import shutil"
      ],
      "metadata": {
        "id": "P8BWZU9gakIF"
      },
      "execution_count": null,
      "outputs": []
    },
    {
      "cell_type": "markdown",
      "source": [
        "**If you want to import files from your google drive, execute the following command.**"
      ],
      "metadata": {
        "id": "jAGOt6_xvIv3"
      }
    },
    {
      "cell_type": "code",
      "source": [
        "from google.colab import drive\n",
        "drive.mount('/content/drive')"
      ],
      "metadata": {
        "id": "KN1U9sWpmrqD"
      },
      "execution_count": null,
      "outputs": []
    },
    {
      "cell_type": "markdown",
      "source": [
        "#Step 2. Nucleotide Translation\n",
        "If you are starting your analysis from DNA sequences execute the following commands. **The reference sequence for conservation analysis must be placed as the first in the fasta file.**\n",
        "\n",
        "You can create a new directory in Google Colab folder or use your own Google drive directory.\n",
        "\n",
        "**If using colab folders, all the outputs will be inputs for the next steps (recommended):**\n",
        "\n",
        "Create a folder named \"nucseq\" in the content directory"
      ],
      "metadata": {
        "id": "cRoIbRlbvQwX"
      }
    },
    {
      "cell_type": "code",
      "source": [
        "#Replace input_dir and output_dir as required.\n",
        "input_dir = \"/content/nucseq\"\n",
        "output_dir = \"/content/protseq\"\n",
        "\n",
        "if not os.path.exists(output_dir):\n",
        "    os.makedirs(output_dir)\n",
        "\n",
        "def translate_sequence(nucleotide_seq):\n",
        "    amino_acid_seq = nucleotide_seq.translate()\n",
        "    return amino_acid_seq\n",
        "\n",
        "for filename in os.listdir(input_dir):\n",
        "    input_path = os.path.join(input_dir, filename)\n",
        "    if os.path.isfile(input_path):  # Check if it's a file\n",
        "        nucleotide_seqs = SeqIO.parse(input_path, \"fasta\")\n",
        "\n",
        "        amino_acid_seqs = []\n",
        "        for seq_record in nucleotide_seqs:\n",
        "            amino_acid_seq = translate_sequence(seq_record.seq)\n",
        "            amino_acid_record = seq_record\n",
        "            amino_acid_record.seq = amino_acid_seq\n",
        "            amino_acid_seqs.append(amino_acid_record)\n",
        "            output_filename = os.path.splitext(filename)[0] + \"_prot.fasta\"\n",
        "        output_path = os.path.join(output_dir, output_filename)\n",
        "        SeqIO.write(amino_acid_seqs, output_path, \"fasta\")"
      ],
      "metadata": {
        "id": "KWVQXwEvaYFa"
      },
      "execution_count": null,
      "outputs": []
    },
    {
      "cell_type": "markdown",
      "source": [
        "#Step 3. Protein Alignment\n",
        "This step will perform the protein alignment using the output from the first step. The code will identify, list and exclude from alignment, all the entries containing stop codons in the middle of the sequence. **The reference sequence for conservation analysis must be placed as the first in the fasta file (if not inserted in the previous step).**"
      ],
      "metadata": {
        "id": "jvH4crvYwVfw"
      }
    },
    {
      "cell_type": "code",
      "source": [
        "##Replace input_dir and output_dir as required.\n",
        "input_dir = \"/content/protseq\"\n",
        "output_dir = \"/content/aln\"\n",
        "\n",
        "# create the output directory if it does not exist\n",
        "if not os.path.exists(output_dir):\n",
        "    os.makedirs(output_dir)\n",
        "\n",
        "# iterate over all files in the input directory\n",
        "for file in os.listdir(input_dir):\n",
        "    # check if file is a fasta file\n",
        "    if file.endswith(\".fasta\"):\n",
        "        input_path = os.path.join(input_dir, file)\n",
        "        output_path = os.path.join(output_dir, file)\n",
        "\n",
        "        # filter out sequences containing stop codons before the last residue\n",
        "        sequences = []\n",
        "        excluded_sequences = []\n",
        "        for record in SeqIO.parse(input_path, \"fasta\"):\n",
        "            sequence = str(record.seq)\n",
        "            if \"*\" not in sequence[:-1]:  # check if the last residue is not a stop codon\n",
        "                sequences.append(record)\n",
        "            else:\n",
        "                excluded_sequences.append(record.id)\n",
        "\n",
        "        # run Clustal Omega for non-excluded sequences and wait for it to finish\n",
        "        SeqIO.write(sequences, input_path, \"fasta\")  # overwrite input file with non-excluded sequences\n",
        "        clustalomega_cline = ClustalOmegaCommandline(infile=input_path, outfile=output_path, auto=True)\n",
        "        stdout, stderr = clustalomega_cline()\n",
        "\n",
        "        # parse Clustal alignment and print summary\n",
        "        alignment = AlignIO.read(output_path, \"fasta\")\n",
        "        print(\"Alignment of {} sequences with length {} has been created. Excluded sequences: {}\".format(\n",
        "            len(alignment), alignment.get_alignment_length(), \", \".join(excluded_sequences)))\n"
      ],
      "metadata": {
        "id": "ELBaAwVUrY3J"
      },
      "execution_count": null,
      "outputs": []
    },
    {
      "cell_type": "markdown",
      "source": [
        "#Step 4. Generation of Attribute Files\n",
        "This step will create attribute files that can be read by Chimera allowing the structural mapping of each mutation found in the alignments. The first sequence in the alignment files will be set as the reference sequence for conservation analysis."
      ],
      "metadata": {
        "id": "Bk1TFnUu0Opm"
      }
    },
    {
      "cell_type": "code",
      "source": [
        "# Step 1: Define the input and output folders\n",
        "input_dir = \"/content/aln\"\n",
        "output_dir = \"/content/attributes\"\n",
        "\n",
        "# create the output directory if it does not exist\n",
        "if not os.path.exists(output_dir):\n",
        "    os.makedirs(output_dir)\n",
        "\n",
        "# Step 2: Iterate over all the files in the input folder\n",
        "for file_name in os.listdir(input_dir):\n",
        "    if file_name.endswith(\".fasta\"):\n",
        "        input_file_path = os.path.join(input_dir, file_name)\n",
        "\n",
        "        # Step 3: Read the alignment file\n",
        "        alignment = AlignIO.read(input_file_path, \"fasta\")\n",
        "\n",
        "        # Step 4: Get the reference sequence\n",
        "        ref_seq = alignment[0].seq\n",
        "\n",
        "        # Step 5: Calculate the identity of each residue\n",
        "        output_file_name = os.path.splitext(file_name)[0] + \"_attributes.txt\"\n",
        "        output_file_path = os.path.join(output_dir, output_file_name)\n",
        "\n",
        "        with open(output_file_path, \"w\") as f:\n",
        "            # Write the attribute headers\n",
        "            f.write(\"attribute: resconservation\\n\")\n",
        "            f.write(\"recipient: residues\\n\")\n",
        "            for j, ref_aa in enumerate(ref_seq):\n",
        "                if ref_aa == \"-\":\n",
        "                    continue\n",
        "                conservation_count = 0\n",
        "                for record in alignment:\n",
        "                    seq = str(record.seq)\n",
        "                    aa = seq[j]\n",
        "                    if aa == \"-\":\n",
        "                        continue\n",
        "                    if record.id != alignment[0].id and aa == ref_aa:\n",
        "                        conservation_count += 1\n",
        "                conservation_percentage = (conservation_count / (len(alignment)-1)) * 100 if ref_aa != '-' else 0\n",
        "                residue_num = j + 1\n",
        "\n",
        "                # Write the attribute value for this residue\n",
        "                line = f\"\\t:{residue_num}.A\\t{conservation_percentage:.2f}\\n\"\n",
        "                f.write(line)\n",
        "\n",
        "        print(\"Attribute file generated: \", output_file_path)"
      ],
      "metadata": {
        "id": "VIoJI1lXcbvs"
      },
      "execution_count": null,
      "outputs": []
    },
    {
      "cell_type": "markdown",
      "source": [
        "#Step 5. Summary Table of identified mutations\n",
        "This step will create excel sheets describing the identified mutations for each alignment as also a file combining all the data."
      ],
      "metadata": {
        "id": "99WIBerq3jGt"
      }
    },
    {
      "cell_type": "code",
      "source": [
        "# Set the input and output directories\n",
        "input_dir = \"/content/aln\"\n",
        "output_dir = \"/content/table\"\n",
        "\n",
        "# Create the output directory if it doesn't exist\n",
        "if not os.path.exists(output_dir):\n",
        "    os.makedirs(output_dir)\n",
        "\n",
        "# Iterate through each file in the input directory\n",
        "for filename in os.listdir(input_dir):\n",
        "    if filename.endswith(\".fasta\"):\n",
        "        # Load the multi sequence alignment file\n",
        "        alignment = AlignIO.read(os.path.join(input_dir, filename), \"fasta\")\n",
        "\n",
        "        # Create an empty dictionary to store the mutation information\n",
        "        mutations_dict = {}\n",
        "\n",
        "        # Iterate through each position in the alignment and compare the amino acid residue at that position in each sequence\n",
        "        for i in range(alignment.get_alignment_length()):\n",
        "            position = i + 1\n",
        "            residues = set(alignment[:, i])\n",
        "            if len(residues) == 1:\n",
        "                continue  # skip if all residues at the position are the same\n",
        "            wt_residue = alignment[0, i]\n",
        "            for j in range(1, len(alignment)):\n",
        "                if alignment[j, i] != wt_residue:\n",
        "                    mutation = f\"{wt_residue}{position}{alignment[j, i]}\"\n",
        "                    if mutation in mutations_dict:\n",
        "                        mutations_dict[mutation][\"count\"] += 1\n",
        "                        mutations_dict[mutation][\"sequences\"].append(alignment[j].id)\n",
        "                    else:\n",
        "                        mutations_dict[mutation] = {\n",
        "                            \"position\": position,\n",
        "                            \"wt_residue\": wt_residue,\n",
        "                            \"mut_residue\": alignment[j, i],\n",
        "                            \"count\": 1,\n",
        "                            \"sequences\": [alignment[j].id],\n",
        "                        }\n",
        "\n",
        "        # Convert the mutations dictionary to a Pandas DataFrame\n",
        "        df = pd.DataFrame(mutations_dict.values(), columns=[\"wt_residue\", \"position\", \"mut_residue\", \"count\", \"sequences\"])\n",
        "\n",
        "        # Add a percentage column to the DataFrame\n",
        "        total_count = df[\"count\"].sum()\n",
        "        df[\"percentage\"] = (df[\"count\"] / (len(alignment) - 1)) * 100\n",
        "\n",
        "        # Save the DataFrame to an Excel file in the output directory\n",
        "        output_filename = os.path.splitext(filename)[0] + \"_mutations.xlsx\"\n",
        "\n",
        "        # Create a Pandas Excel writer\n",
        "        writer = pd.ExcelWriter(os.path.join(output_dir, output_filename), engine=\"xlsxwriter\")\n",
        "\n",
        "        # Write the DataFrame to the Excel sheet\n",
        "        df.to_excel(writer, sheet_name=\"mutations\", index=False)\n",
        "\n",
        "        # Get the worksheet object\n",
        "        worksheet = writer.sheets[\"mutations\"]\n",
        "\n",
        "        # Write the sequence headers to the new column\n",
        "        sequences = df[\"sequences\"].tolist()\n",
        "        sequence_column = len(df.columns) + 1  # Next column after the last column of DataFrame\n",
        "        worksheet.write(0, sequence_column - 1, \"Sequences\")  # Write column header\n",
        "        for i, seq_list in enumerate(sequences):\n",
        "            worksheet.write_column(1, sequence_column - 1, seq_list)\n",
        "\n",
        "        # Close the Pandas Excel writer\n",
        "        writer.save()\n"
      ],
      "metadata": {
        "id": "Q1GhlfTijTwC"
      },
      "execution_count": null,
      "outputs": []
    },
    {
      "cell_type": "code",
      "source": [
        "# Set the input directory for the mutation Excel files\n",
        "input_dir = \"/content/table\"\n",
        "\n",
        "# Create a new Excel file and add the first sheet\n",
        "output_filename = \"combined_mutations.xlsx\"\n",
        "wb = Workbook()\n",
        "ws = wb.active\n",
        "\n",
        "# Iterate through each file in the input directory\n",
        "for filename in os.listdir(input_dir):\n",
        "    if filename.endswith(\"_mutations.xlsx\"):\n",
        "        # Load the Excel file into a Pandas DataFrame\n",
        "        df = pd.read_excel(os.path.join(input_dir, filename))\n",
        "\n",
        "        # Add a new sheet to the output file with the mutations from this input file\n",
        "        ws = wb.create_sheet(title=os.path.splitext(filename)[0])\n",
        "\n",
        "        # Write the mutations DataFrame to the new sheet\n",
        "        for r in dataframe_to_rows(df, index=False, header=True):\n",
        "            ws.append(r)\n",
        "\n",
        "# Save the output file\n",
        "wb.save(os.path.join(input_dir, output_filename))"
      ],
      "metadata": {
        "id": "NOGS0XDElX0P"
      },
      "execution_count": null,
      "outputs": []
    },
    {
      "cell_type": "markdown",
      "source": [
        "#Step 6. Folders Download\n",
        "This step will download all folders from google colab. You can run only the commands for the desired folders."
      ],
      "metadata": {
        "id": "SeNUbIZs4YTy"
      }
    },
    {
      "cell_type": "code",
      "source": [
        "#Proteins Folder\n",
        "folder_protseq = \"/content/protseq\"\n",
        "shutil.make_archive(folder_protseq, 'zip', folder_protseq)\n",
        "files.download(f\"{folder_protseq}.zip\")"
      ],
      "metadata": {
        "id": "_HtXosWesyb0"
      },
      "execution_count": null,
      "outputs": []
    },
    {
      "cell_type": "code",
      "source": [
        "#Alignment Folder\n",
        "folder_aln = \"/content/aln\"\n",
        "shutil.make_archive(folder_aln, 'zip', folder_aln)\n",
        "files.download(f\"{folder_aln}.zip\")"
      ],
      "metadata": {
        "id": "d2a_qL7Vjqn2"
      },
      "execution_count": null,
      "outputs": []
    },
    {
      "cell_type": "code",
      "source": [
        "#Attributes Folder\n",
        "folder_attributes = \"/content/attributes\"\n",
        "shutil.make_archive(folder_attributes, 'zip', folder_attributes)\n",
        "files.download(f\"{folder_attributes}.zip\")"
      ],
      "metadata": {
        "id": "OBazBdajjwTN"
      },
      "execution_count": null,
      "outputs": []
    },
    {
      "cell_type": "code",
      "source": [
        "#Excel Sheet Folder\n",
        "folder_xlsx = \"/content/table\"\n",
        "shutil.make_archive(folder_xlsx, 'zip', folder_xlsx)\n",
        "files.download(f\"{folder_xlsx}.zip\")"
      ],
      "metadata": {
        "id": "jE_NRMkWj1CE"
      },
      "execution_count": null,
      "outputs": []
    }
  ]
}