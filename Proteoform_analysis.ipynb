{
  "nbformat": 4,
  "nbformat_minor": 0,
  "metadata": {
    "colab": {
      "provenance": [],
      "include_colab_link": true
    },
    "kernelspec": {
      "name": "python3",
      "display_name": "Python 3"
    },
    "language_info": {
      "name": "python"
    }
  },
  "cells": [
    {
      "cell_type": "markdown",
      "metadata": {
        "id": "view-in-github",
        "colab_type": "text"
      },
      "source": [
        "<a href=\"https://colab.research.google.com/github/ebbettin/UCH_SRL/blob/main/Proteoform_analysis.ipynb\" target=\"_parent\"><img src=\"https://colab.research.google.com/assets/colab-badge.svg\" alt=\"Open In Colab\"/></a>"
      ]
    },
    {
      "cell_type": "markdown",
      "source": [
        "## **Proteoform Analysis**"
      ],
      "metadata": {
        "id": "wzi2WW4Mb0_w"
      }
    },
    {
      "cell_type": "markdown",
      "source": [
        "# **Step 1: Install Required Libraries**\n",
        "\n",
        "This section installs the necessary libraries for the analysis: Biopython, pandas, openpyxl, MAFFT, and xlsxwriter."
      ],
      "metadata": {
        "id": "_nWCbUxAZc0E"
      }
    },
    {
      "cell_type": "code",
      "source": [
        "!pip install biopython pandas openpyxl"
      ],
      "metadata": {
        "id": "DTEOCkZ9jdPK"
      },
      "execution_count": null,
      "outputs": []
    },
    {
      "cell_type": "code",
      "source": [
        "!apt-get install mafft"
      ],
      "metadata": {
        "id": "hWBMMYLEeHcM"
      },
      "execution_count": null,
      "outputs": []
    },
    {
      "cell_type": "code",
      "source": [
        "!pip install xlsxwriter"
      ],
      "metadata": {
        "id": "N8aHrN_l165F"
      },
      "execution_count": null,
      "outputs": []
    },
    {
      "cell_type": "markdown",
      "source": [
        "# **Step 2: Sequence Alignment**\n",
        "\n",
        "This section will generate alignment files.\n",
        "Sequences with a stop codon before the last position will be excluded and their headers annotated in a txt file.\n",
        "\n",
        "Replace input_dir to reflect the folder containing your fasta files.\n",
        "Replace output_dir and output_txt_path to reflect where you want to save the output files."
      ],
      "metadata": {
        "id": "b07UZLXaZotS"
      }
    },
    {
      "cell_type": "markdown",
      "source": [],
      "metadata": {
        "id": "THLfv_-faNDY"
      }
    },
    {
      "cell_type": "code",
      "source": [
        "import os\n",
        "from Bio import SeqIO\n",
        "from Bio.Align.Applications import MafftCommandline\n",
        "\n",
        "# Replace input_dir and output_dir as required.\n",
        "input_dir = \"/content/seq\"\n",
        "output_dir = \"/content/aln\"\n",
        "\n",
        "# Create the output directory if it does not exist\n",
        "if not os.path.exists(output_dir):\n",
        "    os.makedirs(output_dir)\n",
        "\n",
        "# Define the path for the text file\n",
        "output_txt_path = \"/content/excluded_sequences.txt\"\n",
        "\n",
        "# DNA stop codons\n",
        "stop_codons_dna = {'TAA', 'TAG', 'TGA'}\n",
        "\n",
        "# Open the text file for writing\n",
        "with open(output_txt_path, \"w\") as output_txt_file:\n",
        "\n",
        "    # Iterate over all files in the input directory\n",
        "    for file in os.listdir(input_dir):\n",
        "        # Check if the file is a fasta file\n",
        "        if file.endswith(\".fasta\"):\n",
        "            input_path = os.path.join(input_dir, file)\n",
        "\n",
        "            # Read the sequences and filter out those with a stop codon before the last position\n",
        "            sequences = []\n",
        "            excluded_sequences = []\n",
        "            for record in SeqIO.parse(input_path, \"fasta\"):\n",
        "                sequence = record.seq\n",
        "\n",
        "                # Check for a stop codon before the last position\n",
        "                if any(sequence[i:i + 3] in stop_codons_dna for i in range(0, len(sequence) - 3, 3)):\n",
        "                    excluded_sequences.append(record.id)\n",
        "                else:\n",
        "                    sequences.append(record)\n",
        "\n",
        "            # Print the names of the excluded sequences to the console\n",
        "            if excluded_sequences:\n",
        "                print(f\"Excluded sequences with a stop codon before the last position in {file}: {', '.join(excluded_sequences)}\")\n",
        "\n",
        "                # Write the information to the text file\n",
        "                output_txt_file.write(f\"Excluded sequences in {file}: {', '.join(excluded_sequences)}\\n\")\n",
        "\n",
        "            # Count the number of sequences in the input file\n",
        "            num_sequences = len(sequences)\n",
        "\n",
        "            if num_sequences > 0:\n",
        "                # Create a temporary file for input to MAFFT\n",
        "                temp_input_path = \"/content/temp.fasta\"\n",
        "                with open(temp_input_path, \"w\") as temp_input_file:\n",
        "                    SeqIO.write(sequences, temp_input_file, \"fasta\")\n",
        "\n",
        "                # Run MAFFT with --auto and --quiet\n",
        "                output_filename = f\"{file.split('.')[0]}.fasta\"\n",
        "                output_path = os.path.join(output_dir, output_filename)\n",
        "                mafft_cline = MafftCommandline(input=temp_input_path, auto=True, quiet=True)\n",
        "                stdout, stderr = mafft_cline()\n",
        "\n",
        "                # Write the aligned sequences to the output file\n",
        "                with open(output_path, \"w\") as output_file:\n",
        "                    output_file.write(stdout)\n",
        "\n",
        "                # Print the output path and the number of sequences\n",
        "                print(f\"Alignment of {num_sequences} sequences from {file} was completed. Aligned sequences saved to {output_path}\")\n",
        "\n",
        "# Print the path to the text file\n",
        "print(f\"Excluded sequences information saved to: {output_txt_path}\")\n",
        "\n"
      ],
      "metadata": {
        "id": "CkM_yCmhVDAl"
      },
      "execution_count": null,
      "outputs": []
    },
    {
      "cell_type": "markdown",
      "source": [
        "# **Step 3: Proteoform Analysis**\n",
        "\n",
        "This section will generate sheets containing information about the identified proteforms.\n",
        "\n",
        "Analysis will be made using the raw sequences files and the alignent previously generated."
      ],
      "metadata": {
        "id": "LLLep5HYa58q"
      }
    },
    {
      "cell_type": "code",
      "source": [
        "import os\n",
        "import pandas as pd\n",
        "from openpyxl import Workbook, load_workbook\n",
        "from openpyxl.styles import PatternFill\n",
        "from Bio import SeqIO\n",
        "from Bio.Seq import Seq\n",
        "\n",
        "# Directory path containing the input sequences\n",
        "sequence_directory = '/content/seq'\n",
        "\n",
        "# Directory path containing the output alignment files\n",
        "alignment_directory = '/content/aln'\n",
        "\n",
        "# Create the \"tables\" folder to store the Excel files\n",
        "output_folder = '/content/tables'\n",
        "os.makedirs(output_folder, exist_ok=True)\n",
        "\n",
        "# Create an empty list to store the Excel file paths\n",
        "excel_files = []\n",
        "\n",
        "# Define a function to split a sequence into codons\n",
        "def split_into_codons(sequence):\n",
        "    codons = [sequence[i:i+3] for i in range(0, len(sequence), 3)]\n",
        "    return codons\n",
        "\n",
        "# Define a function to get amino acid from codon\n",
        "def codon_to_aa(codon):\n",
        "    try:\n",
        "        translation = Seq(codon).translate()\n",
        "        return str(translation) if str(translation) != '*' else \"*\"\n",
        "    except Exception:\n",
        "        return \"*\"\n",
        "\n",
        "# Define a function to analyze sequences and save results to Excel\n",
        "def analyze_and_save_to_excel(file_path, sheet_name):\n",
        "\n",
        "# Read the sequence file and extract the sequences\n",
        "    sequences_codons = {}\n",
        "\n",
        "    for record in SeqIO.parse(file_path, 'fasta'):\n",
        "        sequence = str(record.seq)\n",
        "        codons = split_into_codons(sequence)\n",
        "        sequences_codons[record.id] = codons\n",
        "\n",
        "    # Create a DataFrame from the sequences and their codons\n",
        "    df = pd.DataFrame.from_dict(sequences_codons, orient='index')\n",
        "\n",
        "    # Identify the non-conserved codons\n",
        "    non_conserved_codons = df.columns[df.nunique() > 1]\n",
        "\n",
        "    # Create a new DataFrame with only the non-conserved codons\n",
        "    df_non_conserved = df[non_conserved_codons]\n",
        "\n",
        "    # Create an Excel workbook or load it if it already exists\n",
        "    output_file = os.path.join(output_folder, file_path.split('/')[-1].replace('.fasta', '_analysis.xlsx'))\n",
        "    if os.path.exists(output_file):\n",
        "        workbook = load_workbook(output_file)\n",
        "    else:\n",
        "        workbook = Workbook()\n",
        "        # Remove the default sheet created by Workbook\n",
        "        default_sheet = workbook.active\n",
        "        workbook.remove(default_sheet)\n",
        "\n",
        "    # Create a new sheet or load the existing one\n",
        "    if sheet_name in workbook.sheetnames:\n",
        "        sheet = workbook[sheet_name]\n",
        "    else:\n",
        "        sheet = workbook.create_sheet(title=sheet_name)\n",
        "\n",
        "    # Add the codon numbers as the first row\n",
        "    first_row = [\"\"] + list(df_non_conserved.columns)\n",
        "\n",
        "    # Add 1 to each value in the cells\n",
        "    first_row = [\"\" if cell == \"\" else cell + 1 for cell in first_row]\n",
        "\n",
        "    # Append the modified first row to the sheet\n",
        "    sheet.append(first_row)\n",
        "\n",
        "    # Write the DataFrame to the Excel sheet with codons and amino acids\n",
        "    for row in df_non_conserved.itertuples():\n",
        "        row_data = []\n",
        "        stop_codon_encountered = False\n",
        "\n",
        "        for codon in row[1:]:\n",
        "            aa = codon_to_aa(codon)\n",
        "            if aa == '*':\n",
        "                stop_codon_encountered = True\n",
        "                row_data.append(f\"{codon} ({aa})\")\n",
        "            else:\n",
        "                row_data.append(f\"{codon} ({aa})\")\n",
        "\n",
        "        sheet.append([row.Index] + row_data)\n",
        "\n",
        "    # Get unique codons from the modified cells\n",
        "    unique_codons = set(codon for codon in df_non_conserved.values.flatten())\n",
        "\n",
        "    # Generate consistent colors for unique codons\n",
        "    def generate_pastel_color():\n",
        "        pastel_range = range(150, 256)  # Adjust the range as needed for your desired pastel colors\n",
        "\n",
        "        color = 'FF' + ''.join(hex(c)[2:].rjust(2, '0') for c in [os.urandom(1)[0] % len(pastel_range) + pastel_range.start for _ in range(3)])\n",
        "\n",
        "        return color\n",
        "\n",
        "    # Example usage:\n",
        "    color_fills = {}\n",
        "    for value in unique_codons:  # Assuming unique_codons is a list or iterable\n",
        "        new_fill = PatternFill(start_color=generate_pastel_color(),\n",
        "                              end_color=generate_pastel_color(),\n",
        "                              fill_type='solid')\n",
        "        color_fills[value] = new_fill\n",
        "\n",
        "    # Apply cell styles to assign colors to unique codons\n",
        "    for row_num in range(2, sheet.max_row + 1):\n",
        "        for col_num in range(2, sheet.max_column + 1):\n",
        "            cell = sheet.cell(row=row_num, column=col_num)\n",
        "            value = cell.value\n",
        "\n",
        "            # Check if the value is not None and is a string\n",
        "            if isinstance(value, str) and value:\n",
        "                value = value.split()[0]  # Extract codon from the cell value\n",
        "                if value in color_fills:\n",
        "                    cell.fill = color_fills[value]\n",
        "\n",
        "    # Save the workbook as an Excel file\n",
        "    workbook.save(output_file)\n",
        "\n",
        "    # Append the Excel file path to the list\n",
        "    excel_files.append(output_file)\n",
        "\n",
        "# Iterate over each sequence file in the directory\n",
        "for filename in os.listdir(sequence_directory):\n",
        "    if filename.endswith('.fasta'):\n",
        "        sequence_file_path = os.path.join(sequence_directory, filename)\n",
        "        analyze_and_save_to_excel(sequence_file_path, 'Original')\n",
        "\n",
        "# Iterate over each alignment file in the directory\n",
        "for filename in os.listdir(alignment_directory):\n",
        "    if filename.endswith('.fasta') or filename.endswith('.aln'):\n",
        "        alignment_file_path = os.path.join(alignment_directory, filename)\n",
        "        analyze_and_save_to_excel(alignment_file_path, 'Alignment')\n",
        "\n",
        "# Print the Excel file paths\n",
        "print(\"Excel files saved in the 'tables' folder:\")\n",
        "for file in excel_files:\n",
        "    print(file)\n"
      ],
      "metadata": {
        "id": "lNA6AxaD3NTm"
      },
      "execution_count": null,
      "outputs": []
    },
    {
      "cell_type": "markdown",
      "source": [
        "# **Step 4: Proteoform List**\n",
        "\n",
        "This section will generate sheets containing the list of proteoforms identified."
      ],
      "metadata": {
        "id": "HXLaQtFKba5F"
      }
    },
    {
      "cell_type": "code",
      "source": [
        "def group_proteins_by_sequence(input_fasta_file, output_excel_file):\n",
        "    # Read the fasta file and create a dictionary to group proteins by sequence\n",
        "    sequence_dict = {}\n",
        "    for record in SeqIO.parse(input_fasta_file, \"fasta\"):\n",
        "        sequence = str(record.seq)\n",
        "        header = record.id\n",
        "        if sequence in sequence_dict:\n",
        "            sequence_dict[sequence].append(header)\n",
        "        else:\n",
        "            sequence_dict[sequence] = [header]\n",
        "\n",
        "    # Create a DataFrame from the dictionary\n",
        "    df = pd.DataFrame.from_dict(sequence_dict, orient='index').transpose()\n",
        "\n",
        "    # Create output folder if it does not exist\n",
        "    output_folder = os.path.dirname(output_excel_file)\n",
        "    os.makedirs(output_folder, exist_ok=True)\n",
        "\n",
        "    # Write the DataFrame to an Excel file without transposing\n",
        "    df.to_excel(output_excel_file, index=False)\n",
        "\n",
        "# Folder path containing all the input fasta files\n",
        "input_folder = \"/content/seq\"\n",
        "\n",
        "# Output folder path for the Excel files\n",
        "output_folder = \"/content/list\"\n",
        "\n",
        "# Loop through all files in the input folder\n",
        "for filename in os.listdir(input_folder):\n",
        "    if filename.endswith(\".fasta\"):\n",
        "        input_fasta_file = os.path.join(input_folder, filename)\n",
        "        output_excel_file = os.path.join(output_folder, filename.replace(\".fasta\", \".xlsx\"))\n",
        "\n",
        "        # Call the function to group proteins and create the Excel sheet\n",
        "        group_proteins_by_sequence(input_fasta_file, output_excel_file)"
      ],
      "metadata": {
        "id": "7jBvCVtl1Lgs"
      },
      "execution_count": null,
      "outputs": []
    },
    {
      "cell_type": "markdown",
      "source": [
        "# **Step 5: Export files**\n",
        "\n",
        "This section will export all the output files as .zip"
      ],
      "metadata": {
        "id": "8rLGdYZLbcXV"
      }
    },
    {
      "cell_type": "code",
      "source": [
        "import shutil\n",
        "from google.colab import files\n",
        "\n",
        "shutil.make_archive('/content/aln', 'zip', '/content/aln')\n",
        "files.download('/content/aln.zip')\n",
        "\n",
        "shutil.make_archive('/content/tables', 'zip', '/content/tables')\n",
        "files.download('/content/tables.zip')\n",
        "\n",
        "shutil.make_archive('/content/list', 'zip', '/content/list')\n",
        "files.download('/content/list.zip')"
      ],
      "metadata": {
        "id": "4ATrgIHLnUi1"
      },
      "execution_count": null,
      "outputs": []
    }
  ]
}