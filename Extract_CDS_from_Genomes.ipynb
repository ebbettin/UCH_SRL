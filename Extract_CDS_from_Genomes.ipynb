{
  "nbformat": 4,
  "nbformat_minor": 0,
  "metadata": {
    "colab": {
      "provenance": [],
      "authorship_tag": "ABX9TyNMOUxUhDJ/TVFg5hFLG0aD",
      "include_colab_link": true
    },
    "kernelspec": {
      "name": "python3",
      "display_name": "Python 3"
    },
    "language_info": {
      "name": "python"
    }
  },
  "cells": [
    {
      "cell_type": "markdown",
      "metadata": {
        "id": "view-in-github",
        "colab_type": "text"
      },
      "source": [
        "<a href=\"https://colab.research.google.com/github/ebbettin/UCH_SRL/blob/main/Extract_CDS_from_Genomes.ipynb\" target=\"_parent\"><img src=\"https://colab.research.google.com/assets/colab-badge.svg\" alt=\"Open In Colab\"/></a>"
      ]
    },
    {
      "cell_type": "code",
      "source": [
        "!pip install biopython"
      ],
      "metadata": {
        "colab": {
          "base_uri": "https://localhost:8080/"
        },
        "id": "9oifC02gyz8G",
        "outputId": "ab9c8931-74fe-4714-d9e6-4f0fd6c8105d"
      },
      "execution_count": 1,
      "outputs": [
        {
          "output_type": "stream",
          "name": "stdout",
          "text": [
            "Collecting biopython\n",
            "  Downloading biopython-1.85-cp312-cp312-manylinux_2_17_x86_64.manylinux2014_x86_64.whl.metadata (13 kB)\n",
            "Requirement already satisfied: numpy in /usr/local/lib/python3.12/dist-packages (from biopython) (2.0.2)\n",
            "Downloading biopython-1.85-cp312-cp312-manylinux_2_17_x86_64.manylinux2014_x86_64.whl (3.3 MB)\n",
            "\u001b[2K   \u001b[90m━━━━━━━━━━━━━━━━━━━━━━━━━━━━━━━━━━━━━━━━\u001b[0m \u001b[32m3.3/3.3 MB\u001b[0m \u001b[31m21.0 MB/s\u001b[0m eta \u001b[36m0:00:00\u001b[0m\n",
            "\u001b[?25hInstalling collected packages: biopython\n",
            "Successfully installed biopython-1.85\n"
          ]
        }
      ]
    },
    {
      "cell_type": "code",
      "source": [
        "!pip install biopython\n",
        "\n",
        "from Bio import SeqIO\n",
        "from Bio.SeqRecord import SeqRecord\n",
        "import os\n",
        "import glob\n",
        "import io\n",
        "from datetime import datetime\n",
        "\n",
        "# === Input files ===\n",
        "gb_folder = \"/content/\"\n",
        "tags_path = \"/content/locus_tag.txt\"\n",
        "\n",
        "# === Log setup ===\n",
        "log_stream = io.StringIO()\n",
        "def log(msg):\n",
        "    print(msg)\n",
        "    log_stream.write(msg + \"\\n\")\n",
        "\n",
        "# === Validate inputs ===\n",
        "assert os.path.exists(tags_path), f\"❌ Locus tag file not found: {tags_path}\"\n",
        "\n",
        "# === Load target locus_tags ===\n",
        "with open(tags_path, \"r\") as f:\n",
        "    target_tags = {line.strip() for line in f if line.strip()}\n",
        "log(f\"Loaded {len(target_tags)} target locus_tags from {tags_path}\")\n",
        "\n",
        "# === Find all GenBank files ===\n",
        "gb_files = sorted(glob.glob(os.path.join(gb_folder, \"*.gb\")))\n",
        "assert gb_files, f\"❌ No .gb files found in {gb_folder}\"\n",
        "log(f\"Found {len(gb_files)} GenBank files to process.\")\n",
        "\n",
        "# === Process each GenBank file ===\n",
        "for gb_path in gb_files:\n",
        "    base_name = os.path.splitext(os.path.basename(gb_path))[0]\n",
        "    fasta_path = os.path.join(gb_folder, f\"{base_name}_filtered.fasta\")\n",
        "    cds_records = []\n",
        "    found_tags = set()\n",
        "\n",
        "    for record in SeqIO.parse(gb_path, \"genbank\"):\n",
        "        for feature in record.features:\n",
        "            if feature.type == \"CDS\" and \"locus_tag\" in feature.qualifiers:\n",
        "                locus_tag = feature.qualifiers[\"locus_tag\"][0]\n",
        "                if any(tag in locus_tag for tag in target_tags):  # partial match\n",
        "                    product = feature.qualifiers.get(\"product\", [\"unknown_product\"])[0]\n",
        "                    seq = feature.extract(record.seq)\n",
        "                    cds_records.append(SeqRecord(seq, id=locus_tag, description=product))\n",
        "                    found_tags.add(locus_tag)\n",
        "\n",
        "    SeqIO.write(cds_records, fasta_path, \"fasta\")\n",
        "\n",
        "    # Report summary for this file\n",
        "    missing = target_tags - {t for t in target_tags if any(t in f for f in found_tags)}\n",
        "    log(f\"✅ {base_name}: extracted {len(cds_records)} CDSs → {fasta_path}\")\n",
        "    if missing:\n",
        "        log(f\"⚠️  Missing {len(missing)} tags not found in {base_name}: {', '.join(sorted(missing))}\")\n",
        "\n",
        "log(\"🎉 Done processing all GenBank files.\")\n",
        "\n",
        "# === Save log file ===\n",
        "log_file = \"/content/output_summary.txt\"\n",
        "with open(log_file, \"w\") as f:\n",
        "    f.write(log_stream.getvalue())\n",
        "log(f\"📝 Log saved to: {log_file}\")\n"
      ],
      "metadata": {
        "colab": {
          "base_uri": "https://localhost:8080/"
        },
        "id": "g-d33wj81dh-",
        "outputId": "df93e3c4-034e-4f1e-c43e-25f6442e9dda"
      },
      "execution_count": 2,
      "outputs": [
        {
          "output_type": "stream",
          "name": "stdout",
          "text": [
            "Requirement already satisfied: biopython in /usr/local/lib/python3.12/dist-packages (1.85)\n",
            "Requirement already satisfied: numpy in /usr/local/lib/python3.12/dist-packages (from biopython) (2.0.2)\n",
            "Loaded 9 target locus_tags from /content/locus_tag.txt\n",
            "Found 6 GenBank files to process.\n",
            "✅ 18NCF8220317: extracted 9 CDSs → /content/18NCF8220317_filtered.fasta\n",
            "✅ 24SNM5151115: extracted 8 CDSs → /content/24SNM5151115_filtered.fasta\n",
            "⚠️  Missing 1 tags not found in 24SNM5151115: _0697\n",
            "✅ 32LMM2190317 : extracted 9 CDSs → /content/32LMM2190317 _filtered.fasta\n",
            "✅ 6RUM2090716: extracted 9 CDSs → /content/6RUM2090716_filtered.fasta\n",
            "✅ Fribourg-Blanc: extracted 12 CDSs → /content/Fribourg-Blanc_filtered.fasta\n",
            "✅ LMNP-1: extracted 12 CDSs → /content/LMNP-1_filtered.fasta\n",
            "🎉 Done processing all GenBank files.\n",
            "📝 Log saved to: /content/output_summary.txt\n"
          ]
        }
      ]
    },
    {
      "cell_type": "code",
      "source": [
        "from google.colab import files\n",
        "import shutil\n",
        "import glob\n",
        "\n",
        "# === Prepare ZIP ===\n",
        "output_zip = \"/content/filtered_fastas.zip\"\n",
        "fasta_files = glob.glob(\"/content/*_filtered.fasta\")\n",
        "log_file = \"/content/output_summary.txt\"\n",
        "\n",
        "if not fasta_files:\n",
        "    print(\"⚠️ No *_filtered.fasta files found in /content/\")\n",
        "else:\n",
        "    # Create a temp folder for zip contents\n",
        "    temp_folder = \"/content/zip_temp\"\n",
        "    os.makedirs(temp_folder, exist_ok=True)\n",
        "\n",
        "    # Copy FASTA files and log file\n",
        "    for f in fasta_files:\n",
        "        shutil.copy(f, temp_folder)\n",
        "    shutil.copy(log_file, temp_folder)\n",
        "\n",
        "    # Create the ZIP\n",
        "    shutil.make_archive(output_zip.replace(\".zip\", \"\"), 'zip', temp_folder)\n",
        "    print(f\"✅ Created ZIP file with FASTAs + log: {output_zip}\")\n",
        "\n",
        "    # Download\n",
        "    files.download(output_zip)\n"
      ],
      "metadata": {
        "colab": {
          "base_uri": "https://localhost:8080/",
          "height": 34
        },
        "id": "yIDwN-rX1g8n",
        "outputId": "ccab2b3b-ad9c-48f8-b246-52f9bd73a582"
      },
      "execution_count": 3,
      "outputs": [
        {
          "output_type": "stream",
          "name": "stdout",
          "text": [
            "✅ Created ZIP file with FASTAs + log: /content/filtered_fastas.zip\n"
          ]
        },
        {
          "output_type": "display_data",
          "data": {
            "text/plain": [
              "<IPython.core.display.Javascript object>"
            ],
            "application/javascript": [
              "\n",
              "    async function download(id, filename, size) {\n",
              "      if (!google.colab.kernel.accessAllowed) {\n",
              "        return;\n",
              "      }\n",
              "      const div = document.createElement('div');\n",
              "      const label = document.createElement('label');\n",
              "      label.textContent = `Downloading \"${filename}\": `;\n",
              "      div.appendChild(label);\n",
              "      const progress = document.createElement('progress');\n",
              "      progress.max = size;\n",
              "      div.appendChild(progress);\n",
              "      document.body.appendChild(div);\n",
              "\n",
              "      const buffers = [];\n",
              "      let downloaded = 0;\n",
              "\n",
              "      const channel = await google.colab.kernel.comms.open(id);\n",
              "      // Send a message to notify the kernel that we're ready.\n",
              "      channel.send({})\n",
              "\n",
              "      for await (const message of channel.messages) {\n",
              "        // Send a message to notify the kernel that we're ready.\n",
              "        channel.send({})\n",
              "        if (message.buffers) {\n",
              "          for (const buffer of message.buffers) {\n",
              "            buffers.push(buffer);\n",
              "            downloaded += buffer.byteLength;\n",
              "            progress.value = downloaded;\n",
              "          }\n",
              "        }\n",
              "      }\n",
              "      const blob = new Blob(buffers, {type: 'application/binary'});\n",
              "      const a = document.createElement('a');\n",
              "      a.href = window.URL.createObjectURL(blob);\n",
              "      a.download = filename;\n",
              "      div.appendChild(a);\n",
              "      a.click();\n",
              "      div.remove();\n",
              "    }\n",
              "  "
            ]
          },
          "metadata": {}
        },
        {
          "output_type": "display_data",
          "data": {
            "text/plain": [
              "<IPython.core.display.Javascript object>"
            ],
            "application/javascript": [
              "download(\"download_65b83335-cdc0-46e8-8477-ae4448d9993d\", \"filtered_fastas.zip\", 13617)"
            ]
          },
          "metadata": {}
        }
      ]
    }
  ]
}